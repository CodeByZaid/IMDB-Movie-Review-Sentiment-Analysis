{
 "cells": [
  {
   "cell_type": "code",
   "execution_count": 2,
   "metadata": {},
   "outputs": [],
   "source": [
    "# Step 1: Import Libraries and Load the Model\n",
    "import numpy as np\n",
    "import tensorflow as tf\n",
    "from tensorflow.keras.datasets import imdb\n",
    "from tensorflow.keras.preprocessing import sequence\n",
    "from tensorflow.keras.models import load_model"
   ]
  },
  {
   "cell_type": "code",
   "execution_count": 3,
   "metadata": {},
   "outputs": [],
   "source": [
    "\n",
    "# Load the IMDB dataset word index\n",
    "word_index = imdb.get_word_index()\n",
    "reverse_word_index = {value: key for key, value in word_index.items()}"
   ]
  },
  {
   "cell_type": "code",
   "execution_count": 4,
   "metadata": {},
   "outputs": [
    {
     "name": "stderr",
     "output_type": "stream",
     "text": [
      "WARNING:absl:Compiled the loaded model, but the compiled metrics have yet to be built. `model.compile_metrics` will be empty until you train or evaluate the model.\n"
     ]
    },
    {
     "data": {
      "text/html": [
       "<pre style=\"white-space:pre;overflow-x:auto;line-height:normal;font-family:Menlo,'DejaVu Sans Mono',consolas,'Courier New',monospace\"><span style=\"font-weight: bold\">Model: \"sequential\"</span>\n",
       "</pre>\n"
      ],
      "text/plain": [
       "\u001b[1mModel: \"sequential\"\u001b[0m\n"
      ]
     },
     "metadata": {},
     "output_type": "display_data"
    },
    {
     "data": {
      "text/html": [
       "<pre style=\"white-space:pre;overflow-x:auto;line-height:normal;font-family:Menlo,'DejaVu Sans Mono',consolas,'Courier New',monospace\">┏━━━━━━━━━━━━━━━━━━━━━━━━━━━━━━━━━┳━━━━━━━━━━━━━━━━━━━━━━━━┳━━━━━━━━━━━━━━━┓\n",
       "┃<span style=\"font-weight: bold\"> Layer (type)                    </span>┃<span style=\"font-weight: bold\"> Output Shape           </span>┃<span style=\"font-weight: bold\">       Param # </span>┃\n",
       "┡━━━━━━━━━━━━━━━━━━━━━━━━━━━━━━━━━╇━━━━━━━━━━━━━━━━━━━━━━━━╇━━━━━━━━━━━━━━━┩\n",
       "│ embedding (<span style=\"color: #0087ff; text-decoration-color: #0087ff\">Embedding</span>)           │ (<span style=\"color: #00af00; text-decoration-color: #00af00\">32</span>, <span style=\"color: #00af00; text-decoration-color: #00af00\">500</span>, <span style=\"color: #00af00; text-decoration-color: #00af00\">128</span>)         │     <span style=\"color: #00af00; text-decoration-color: #00af00\">1,280,000</span> │\n",
       "├─────────────────────────────────┼────────────────────────┼───────────────┤\n",
       "│ simple_rnn (<span style=\"color: #0087ff; text-decoration-color: #0087ff\">SimpleRNN</span>)          │ (<span style=\"color: #00af00; text-decoration-color: #00af00\">32</span>, <span style=\"color: #00af00; text-decoration-color: #00af00\">128</span>)              │        <span style=\"color: #00af00; text-decoration-color: #00af00\">32,896</span> │\n",
       "├─────────────────────────────────┼────────────────────────┼───────────────┤\n",
       "│ dense (<span style=\"color: #0087ff; text-decoration-color: #0087ff\">Dense</span>)                   │ (<span style=\"color: #00af00; text-decoration-color: #00af00\">32</span>, <span style=\"color: #00af00; text-decoration-color: #00af00\">1</span>)                │           <span style=\"color: #00af00; text-decoration-color: #00af00\">129</span> │\n",
       "└─────────────────────────────────┴────────────────────────┴───────────────┘\n",
       "</pre>\n"
      ],
      "text/plain": [
       "┏━━━━━━━━━━━━━━━━━━━━━━━━━━━━━━━━━┳━━━━━━━━━━━━━━━━━━━━━━━━┳━━━━━━━━━━━━━━━┓\n",
       "┃\u001b[1m \u001b[0m\u001b[1mLayer (type)                   \u001b[0m\u001b[1m \u001b[0m┃\u001b[1m \u001b[0m\u001b[1mOutput Shape          \u001b[0m\u001b[1m \u001b[0m┃\u001b[1m \u001b[0m\u001b[1m      Param #\u001b[0m\u001b[1m \u001b[0m┃\n",
       "┡━━━━━━━━━━━━━━━━━━━━━━━━━━━━━━━━━╇━━━━━━━━━━━━━━━━━━━━━━━━╇━━━━━━━━━━━━━━━┩\n",
       "│ embedding (\u001b[38;5;33mEmbedding\u001b[0m)           │ (\u001b[38;5;34m32\u001b[0m, \u001b[38;5;34m500\u001b[0m, \u001b[38;5;34m128\u001b[0m)         │     \u001b[38;5;34m1,280,000\u001b[0m │\n",
       "├─────────────────────────────────┼────────────────────────┼───────────────┤\n",
       "│ simple_rnn (\u001b[38;5;33mSimpleRNN\u001b[0m)          │ (\u001b[38;5;34m32\u001b[0m, \u001b[38;5;34m128\u001b[0m)              │        \u001b[38;5;34m32,896\u001b[0m │\n",
       "├─────────────────────────────────┼────────────────────────┼───────────────┤\n",
       "│ dense (\u001b[38;5;33mDense\u001b[0m)                   │ (\u001b[38;5;34m32\u001b[0m, \u001b[38;5;34m1\u001b[0m)                │           \u001b[38;5;34m129\u001b[0m │\n",
       "└─────────────────────────────────┴────────────────────────┴───────────────┘\n"
      ]
     },
     "metadata": {},
     "output_type": "display_data"
    },
    {
     "data": {
      "text/html": [
       "<pre style=\"white-space:pre;overflow-x:auto;line-height:normal;font-family:Menlo,'DejaVu Sans Mono',consolas,'Courier New',monospace\"><span style=\"font-weight: bold\"> Total params: </span><span style=\"color: #00af00; text-decoration-color: #00af00\">1,313,027</span> (5.01 MB)\n",
       "</pre>\n"
      ],
      "text/plain": [
       "\u001b[1m Total params: \u001b[0m\u001b[38;5;34m1,313,027\u001b[0m (5.01 MB)\n"
      ]
     },
     "metadata": {},
     "output_type": "display_data"
    },
    {
     "data": {
      "text/html": [
       "<pre style=\"white-space:pre;overflow-x:auto;line-height:normal;font-family:Menlo,'DejaVu Sans Mono',consolas,'Courier New',monospace\"><span style=\"font-weight: bold\"> Trainable params: </span><span style=\"color: #00af00; text-decoration-color: #00af00\">1,313,025</span> (5.01 MB)\n",
       "</pre>\n"
      ],
      "text/plain": [
       "\u001b[1m Trainable params: \u001b[0m\u001b[38;5;34m1,313,025\u001b[0m (5.01 MB)\n"
      ]
     },
     "metadata": {},
     "output_type": "display_data"
    },
    {
     "data": {
      "text/html": [
       "<pre style=\"white-space:pre;overflow-x:auto;line-height:normal;font-family:Menlo,'DejaVu Sans Mono',consolas,'Courier New',monospace\"><span style=\"font-weight: bold\"> Non-trainable params: </span><span style=\"color: #00af00; text-decoration-color: #00af00\">0</span> (0.00 B)\n",
       "</pre>\n"
      ],
      "text/plain": [
       "\u001b[1m Non-trainable params: \u001b[0m\u001b[38;5;34m0\u001b[0m (0.00 B)\n"
      ]
     },
     "metadata": {},
     "output_type": "display_data"
    },
    {
     "data": {
      "text/html": [
       "<pre style=\"white-space:pre;overflow-x:auto;line-height:normal;font-family:Menlo,'DejaVu Sans Mono',consolas,'Courier New',monospace\"><span style=\"font-weight: bold\"> Optimizer params: </span><span style=\"color: #00af00; text-decoration-color: #00af00\">2</span> (12.00 B)\n",
       "</pre>\n"
      ],
      "text/plain": [
       "\u001b[1m Optimizer params: \u001b[0m\u001b[38;5;34m2\u001b[0m (12.00 B)\n"
      ]
     },
     "metadata": {},
     "output_type": "display_data"
    }
   ],
   "source": [
    "# Load the pre-trained model with ReLU activation\n",
    "model = load_model('simple_rnn_imdb.h5')\n",
    "model.summary()"
   ]
  },
  {
   "cell_type": "code",
   "execution_count": 5,
   "metadata": {},
   "outputs": [
    {
     "data": {
      "text/plain": [
       "[array([[-0.05273929, -0.10467397, -0.12018202, ..., -0.04917864,\n",
       "          0.04883993, -0.0255351 ],\n",
       "        [-0.04438365,  0.02144254, -0.0307964 , ..., -0.01108713,\n",
       "         -0.02795005,  0.0454962 ],\n",
       "        [ 0.08038966,  0.00434115, -0.11280402, ...,  0.11733712,\n",
       "         -0.093805  ,  0.08713131],\n",
       "        ...,\n",
       "        [ 0.02786283,  0.01261729,  0.06473162, ...,  0.05241149,\n",
       "          0.02967576, -0.02095519],\n",
       "        [-0.05181276, -0.05227733, -0.05778277, ..., -0.08094978,\n",
       "         -0.09126811,  0.13969627],\n",
       "        [-0.1497202 ,  0.16140115,  0.08217631, ...,  0.09176959,\n",
       "          0.03406183, -0.05534283]], shape=(10000, 128), dtype=float32),\n",
       " array([[-0.05039132,  0.00490677, -0.09544379, ..., -0.04776504,\n",
       "         -0.06991421,  0.01101728],\n",
       "        [ 0.03449031,  0.0821215 ,  0.08072266, ..., -0.02710779,\n",
       "          0.03580028,  0.00176788],\n",
       "        [ 0.04522098, -0.00946666,  0.05012085, ..., -0.02459808,\n",
       "         -0.12125699,  0.13596782],\n",
       "        ...,\n",
       "        [ 0.0145761 ,  0.05804376,  0.10867708, ...,  0.06088488,\n",
       "          0.07578492, -0.10712485],\n",
       "        [-0.07246763,  0.01606906,  0.12728393, ...,  0.1273209 ,\n",
       "         -0.08961739,  0.02662528],\n",
       "        [-0.01922521, -0.09657796,  0.11602375, ...,  0.08532838,\n",
       "          0.09890966,  0.09509794]], shape=(128, 128), dtype=float32),\n",
       " array([[-0.10499787,  0.08072572, -0.15859058, ..., -0.0619432 ,\n",
       "         -0.07298759, -0.04936532],\n",
       "        [-0.1376909 ,  0.01845269,  0.03770639, ..., -0.07790546,\n",
       "         -0.05853056,  0.00919728],\n",
       "        [ 0.02644067, -0.22963011,  0.24299572, ...,  0.18640622,\n",
       "          0.09671176, -0.08071661],\n",
       "        ...,\n",
       "        [-0.17565757, -0.02694857, -0.08910719, ...,  0.0998462 ,\n",
       "          0.05386304,  0.06253326],\n",
       "        [-0.12621802,  0.13992403, -0.03389418, ..., -0.0082833 ,\n",
       "         -0.14413214, -0.01225759],\n",
       "        [-0.15321858,  0.08615948, -0.2995465 , ..., -0.04328185,\n",
       "         -0.0898008 , -0.07029323]], shape=(128, 128), dtype=float32),\n",
       " array([ 0.02061855,  0.00658345, -0.01499973, -0.00229868,  0.01520992,\n",
       "         0.02016344, -0.04843758, -0.00118987, -0.0247688 ,  0.0095082 ,\n",
       "        -0.03362381, -0.00303345, -0.01544733,  0.01561395, -0.00530124,\n",
       "        -0.0074426 , -0.0260502 , -0.00345098,  0.01320494, -0.02878322,\n",
       "        -0.01279031, -0.01027526,  0.00935949, -0.03397782, -0.02337525,\n",
       "        -0.02486978, -0.02006419,  0.01309917, -0.02408974, -0.02015449,\n",
       "        -0.00308456,  0.00802654, -0.00543341,  0.0140548 ,  0.00820873,\n",
       "        -0.01964821, -0.03042778, -0.01972879,  0.00477867, -0.00055515,\n",
       "         0.00779755,  0.03930873, -0.02454561, -0.00425164, -0.02716172,\n",
       "        -0.01911987,  0.02121559, -0.00880726,  0.01082515, -0.00776889,\n",
       "        -0.02257546,  0.0249229 , -0.02424996, -0.01586793,  0.00510216,\n",
       "        -0.00780999, -0.01086541,  0.02391366, -0.03325962,  0.03813674,\n",
       "         0.03218511,  0.03217263, -0.00601534, -0.02195541,  0.01323594,\n",
       "        -0.02378997,  0.00255481, -0.02169528, -0.01867935,  0.03095167,\n",
       "        -0.01015887, -0.03617799, -0.00584193, -0.01622204,  0.04441713,\n",
       "         0.01095164,  0.00727336, -0.01303592, -0.01004675,  0.02042153,\n",
       "         0.02127196, -0.00074892,  0.02705402, -0.02540695, -0.0156037 ,\n",
       "        -0.01528636, -0.02817384,  0.03256385, -0.0111784 , -0.01624536,\n",
       "         0.01595454, -0.00290571, -0.02754911, -0.01137543,  0.02958217,\n",
       "         0.02589452, -0.03864765,  0.04471995,  0.02233945, -0.02416121,\n",
       "        -0.01745748,  0.02608454,  0.00248516,  0.02056171, -0.00461971,\n",
       "        -0.00129199, -0.0218172 , -0.02774921, -0.01497458, -0.01968344,\n",
       "         0.02809772,  0.03017913, -0.00351072, -0.00836404, -0.01765557,\n",
       "        -0.01409559, -0.05607056, -0.03136354,  0.02434762,  0.01256737,\n",
       "         0.00340446,  0.01863252, -0.01552147, -0.0151144 , -0.00439025,\n",
       "        -0.00137388, -0.01039093, -0.01281332], dtype=float32),\n",
       " array([[ 0.932098  ],\n",
       "        [ 0.247141  ],\n",
       "        [ 0.01570144],\n",
       "        [-0.11075705],\n",
       "        [-0.10103751],\n",
       "        [ 0.07537822],\n",
       "        [ 0.18177493],\n",
       "        [ 0.2480391 ],\n",
       "        [ 0.14652145],\n",
       "        [-0.05382076],\n",
       "        [-0.08882695],\n",
       "        [-0.15104702],\n",
       "        [-0.45038798],\n",
       "        [-0.65123063],\n",
       "        [ 1.0891947 ],\n",
       "        [ 0.00295407],\n",
       "        [ 0.28032452],\n",
       "        [ 0.26768562],\n",
       "        [-0.15458702],\n",
       "        [-0.2940238 ],\n",
       "        [ 0.26339468],\n",
       "        [ 0.22110903],\n",
       "        [-0.21901114],\n",
       "        [-0.07953402],\n",
       "        [ 0.20864865],\n",
       "        [-0.05667434],\n",
       "        [ 0.33343178],\n",
       "        [ 0.5922946 ],\n",
       "        [-0.22587137],\n",
       "        [-0.6964988 ],\n",
       "        [-0.02129869],\n",
       "        [-1.3272587 ],\n",
       "        [ 0.11307031],\n",
       "        [ 0.04325666],\n",
       "        [-0.11683567],\n",
       "        [ 0.7813956 ],\n",
       "        [-0.21942268],\n",
       "        [-0.2437019 ],\n",
       "        [ 0.03977551],\n",
       "        [ 0.0497918 ],\n",
       "        [-0.36710367],\n",
       "        [ 0.01804145],\n",
       "        [ 0.26146474],\n",
       "        [-0.02292079],\n",
       "        [-0.05349082],\n",
       "        [-0.30438155],\n",
       "        [ 0.27805272],\n",
       "        [-0.3871096 ],\n",
       "        [-0.02849583],\n",
       "        [ 0.17165601],\n",
       "        [-0.13032337],\n",
       "        [ 0.07454623],\n",
       "        [-0.10506194],\n",
       "        [ 0.22632004],\n",
       "        [ 0.09321665],\n",
       "        [ 0.16575146],\n",
       "        [-0.11258547],\n",
       "        [ 0.23299953],\n",
       "        [ 0.1289773 ],\n",
       "        [-0.15450722],\n",
       "        [-0.08156623],\n",
       "        [-0.05350579],\n",
       "        [ 0.18053085],\n",
       "        [ 0.7212749 ],\n",
       "        [ 0.12616834],\n",
       "        [ 0.499171  ],\n",
       "        [-0.06306214],\n",
       "        [ 0.12672766],\n",
       "        [ 0.14833783],\n",
       "        [-0.17032175],\n",
       "        [-0.05760752],\n",
       "        [-0.14005092],\n",
       "        [-0.6965655 ],\n",
       "        [ 0.11196779],\n",
       "        [-0.02133575],\n",
       "        [ 0.21140788],\n",
       "        [-0.3219656 ],\n",
       "        [-0.16631433],\n",
       "        [-0.10906279],\n",
       "        [ 0.19866465],\n",
       "        [ 0.00701114],\n",
       "        [-0.06997019],\n",
       "        [-0.16108975],\n",
       "        [ 0.16555868],\n",
       "        [-0.04948281],\n",
       "        [ 0.21031597],\n",
       "        [ 0.17814934],\n",
       "        [-0.06655367],\n",
       "        [-0.77663875],\n",
       "        [-0.31153098],\n",
       "        [-0.15840593],\n",
       "        [ 0.14154874],\n",
       "        [ 0.08464049],\n",
       "        [-0.04722532],\n",
       "        [-0.15744711],\n",
       "        [-0.01698077],\n",
       "        [-0.11197399],\n",
       "        [-0.13030216],\n",
       "        [ 0.31159523],\n",
       "        [-0.07373126],\n",
       "        [ 0.03707524],\n",
       "        [-0.3695585 ],\n",
       "        [ 0.01580413],\n",
       "        [ 0.06740059],\n",
       "        [ 0.1479736 ],\n",
       "        [ 0.0791955 ],\n",
       "        [ 0.621476  ],\n",
       "        [ 0.1838382 ],\n",
       "        [-1.087666  ],\n",
       "        [ 0.14475375],\n",
       "        [ 0.02195786],\n",
       "        [-0.13390611],\n",
       "        [ 0.16829774],\n",
       "        [-0.0501068 ],\n",
       "        [ 0.23061408],\n",
       "        [-0.03729213],\n",
       "        [ 0.045143  ],\n",
       "        [-0.06861331],\n",
       "        [ 0.05113022],\n",
       "        [-0.09861627],\n",
       "        [ 1.4685749 ],\n",
       "        [-0.07955286],\n",
       "        [ 0.16284493],\n",
       "        [ 0.12168066],\n",
       "        [ 0.18277848],\n",
       "        [-0.10140716],\n",
       "        [ 0.14199966],\n",
       "        [-0.05628914]], dtype=float32),\n",
       " array([1.680289], dtype=float32)]"
      ]
     },
     "execution_count": 5,
     "metadata": {},
     "output_type": "execute_result"
    }
   ],
   "source": [
    "model.get_weights()"
   ]
  },
  {
   "cell_type": "code",
   "execution_count": 6,
   "metadata": {},
   "outputs": [],
   "source": [
    "# Step 2: Helper Functions\n",
    "# Function to decode reviews\n",
    "def decode_review(encoded_review):\n",
    "    return ' '.join([reverse_word_index.get(i - 3, '?') for i in encoded_review])\n",
    "\n",
    "# Function to preprocess user input\n",
    "def preprocess_text(text):\n",
    "    words = text.lower().split()\n",
    "    encoded_review = [word_index.get(word, 2) + 3 for word in words]\n",
    "    padded_review = sequence.pad_sequences([encoded_review], maxlen=500)\n",
    "    return padded_review"
   ]
  },
  {
   "cell_type": "code",
   "execution_count": 7,
   "metadata": {},
   "outputs": [],
   "source": [
    "### Prediction  function\n",
    "\n",
    "def predict_sentiment(review):\n",
    "    preprocessed_input=preprocess_text(review)\n",
    "\n",
    "    prediction=model.predict(preprocessed_input)\n",
    "\n",
    "    sentiment = 'Positive' if prediction[0][0] > 0.5 else 'Negative'\n",
    "    \n",
    "    return sentiment, prediction[0][0]\n",
    "\n"
   ]
  },
  {
   "cell_type": "code",
   "execution_count": 8,
   "metadata": {},
   "outputs": [
    {
     "name": "stdout",
     "output_type": "stream",
     "text": [
      "\u001b[1m1/1\u001b[0m \u001b[32m━━━━━━━━━━━━━━━━━━━━\u001b[0m\u001b[37m\u001b[0m \u001b[1m0s\u001b[0m 139ms/step\n",
      "Review: This movie was fantastic! The acting was great and the plot was thrilling.\n",
      "Sentiment: Negative\n",
      "Prediction Score: 3.3829717722255737e-05\n"
     ]
    }
   ],
   "source": [
    "# Step 4: User Input and Prediction\n",
    "# Example review for prediction\n",
    "example_review = \"This movie was fantastic! The acting was great and the plot was thrilling.\"\n",
    "\n",
    "sentiment,score=predict_sentiment(example_review)\n",
    "\n",
    "print(f'Review: {example_review}')\n",
    "print(f'Sentiment: {sentiment}')\n",
    "print(f'Prediction Score: {score}')"
   ]
  }
 ],
 "metadata": {
  "kernelspec": {
   "display_name": "myenv",
   "language": "python",
   "name": "python3"
  },
  "language_info": {
   "codemirror_mode": {
    "name": "ipython",
    "version": 3
   },
   "file_extension": ".py",
   "mimetype": "text/x-python",
   "name": "python",
   "nbconvert_exporter": "python",
   "pygments_lexer": "ipython3",
   "version": "3.12.11"
  }
 },
 "nbformat": 4,
 "nbformat_minor": 2
}
